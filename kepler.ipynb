{
 "cells": [
  {
   "cell_type": "code",
   "execution_count": 1,
   "metadata": {},
   "outputs": [],
   "source": [
    "from keplergl import KeplerGl\n",
    "import pandas as pd\n",
    "import geopandas as gpd\n",
    "import numpy as np\n",
    "import matplotlib.pyplot as plt\n",
    "from shapely.geometry import Point, Polygon, LineString"
   ]
  },
  {
   "cell_type": "code",
   "execution_count": 2,
   "metadata": {},
   "outputs": [],
   "source": [
    "stops = pd.read_csv('./STM GTFS/stops.txt', sep=',')\n",
    "shapes = pd.read_csv('./STM GTFS/shapes.txt', sep=',')\n",
    "routes = pd.read_csv('./STM GTFS/routes.txt', sep=',')\n",
    "trips = pd.read_csv('./STM GTFS/trips.txt', sep=',')\n",
    "stop_times = pd.read_csv('./STM GTFS/stop_times.txt', sep=',')"
   ]
  },
  {
   "cell_type": "code",
   "execution_count": 3,
   "metadata": {},
   "outputs": [],
   "source": [
    "shapes_gpd = gpd.GeoDataFrame(shapes, geometry=gpd.points_from_xy(shapes.shape_pt_lon, shapes.shape_pt_lat), crs='EPSG:4326')\n",
    "shapes_gpd = shapes_gpd.groupby('shape_id')['geometry'].apply(lambda x: LineString(x.tolist()) if x.size > 1 else x.tolist()).reset_index()"
   ]
  },
  {
   "cell_type": "code",
   "execution_count": 26,
   "metadata": {},
   "outputs": [],
   "source": [
    "route_number = 107"
   ]
  },
  {
   "cell_type": "code",
   "execution_count": 27,
   "metadata": {},
   "outputs": [],
   "source": [
    "trip = trips[trips['route_id'] == routes.query('route_short_name == @route_number')['route_id'].values[0]]\n",
    "stops_in_trip = stop_times[stop_times['trip_id'].isin(trip['trip_id'])]\n",
    "shape_trip = shapes_gpd[shapes_gpd['shape_id'].isin(trip['shape_id'])]\n",
    "stops_in_trip_details = stops[stops['stop_code'].isin(stops_in_trip['stop_id'])]"
   ]
  },
  {
   "cell_type": "code",
   "execution_count": 28,
   "metadata": {},
   "outputs": [],
   "source": [
    "stops_in_trip_details = stops_in_trip_details.merge(stops_in_trip, left_on='stop_code', right_on='stop_id').drop_duplicates(subset=['stop_code'])"
   ]
  },
  {
   "cell_type": "code",
   "execution_count": 29,
   "metadata": {},
   "outputs": [],
   "source": [
    "stops_in_trip_gpd = gpd.GeoDataFrame(\n",
    "    stops_in_trip_details,\n",
    "    geometry=gpd.points_from_xy(\n",
    "        stops_in_trip_details.stop_lon, stops_in_trip_details.stop_lat\n",
    "    ),\n",
    "    crs=\"EPSG:4326\",\n",
    ")"
   ]
  },
  {
   "cell_type": "code",
   "execution_count": 35,
   "metadata": {},
   "outputs": [],
   "source": [
    "stops_in_trip_gpd[['trip_id']] = stops_in_trip_gpd[['trip_id']].astype(str)"
   ]
  },
  {
   "cell_type": "code",
   "execution_count": 15,
   "metadata": {},
   "outputs": [],
   "source": [
    "# with open('./config.txt', 'w') as f:\n",
    "#     f.write(str(map.config))"
   ]
  },
  {
   "cell_type": "code",
   "execution_count": 30,
   "metadata": {},
   "outputs": [],
   "source": [
    "with open('./config.txt', 'r') as f:\n",
    "    config = f.read()\n",
    "\n",
    "config = dict(eval(config))    "
   ]
  },
  {
   "cell_type": "code",
   "execution_count": 36,
   "metadata": {},
   "outputs": [
    {
     "name": "stdout",
     "output_type": "stream",
     "text": [
      "User Guide: https://docs.kepler.gl/docs/keplergl-jupyter\n"
     ]
    },
    {
     "data": {
      "application/vnd.jupyter.widget-view+json": {
       "model_id": "caf0ae7feff041579e5b4687c2a27a4f",
       "version_major": 2,
       "version_minor": 0
      },
      "text/plain": [
       "KeplerGl(config={'version': 'v1', 'config': {'visState': {'filters': [], 'layers': [{'id': 'dlwfdmh', 'type': …"
      ]
     },
     "metadata": {},
     "output_type": "display_data"
    }
   ],
   "source": [
    "map = KeplerGl(height=700, config=config)\n",
    "\n",
    "map.add_data(\n",
    "    data=stops_in_trip_gpd[[\"stop_code\", \"stop_name\", \"geometry\", \"trip_id\"]], name=\"stops_in_trip\"\n",
    ")\n",
    "\n",
    "map.add_data(data=shape_trip[['geometry']], name=\"shape_trip\")\n",
    "\n",
    "map"
   ]
  },
  {
   "cell_type": "code",
   "execution_count": null,
   "metadata": {},
   "outputs": [],
   "source": []
  }
 ],
 "metadata": {
  "kernelspec": {
   "display_name": "Python 3",
   "language": "python",
   "name": "python3"
  },
  "language_info": {
   "codemirror_mode": {
    "name": "ipython",
    "version": 3
   },
   "file_extension": ".py",
   "mimetype": "text/x-python",
   "name": "python",
   "nbconvert_exporter": "python",
   "pygments_lexer": "ipython3",
   "version": "3.10.11"
  }
 },
 "nbformat": 4,
 "nbformat_minor": 2
}
