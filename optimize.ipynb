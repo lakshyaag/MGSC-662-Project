{
 "cells": [
  {
   "cell_type": "code",
   "execution_count": 24,
   "metadata": {},
   "outputs": [],
   "source": [
    "import re\n",
    "import gurobipy as gb\n",
    "import numpy as np\n",
    "import pandas as pd\n",
    "\n",
    "import networkx as nx\n",
    "import matplotlib.pyplot as plt\n",
    "from gtfs_functions import Feed\n",
    "from keplergl import KeplerGl\n",
    "import geopandas as gpd\n",
    "from shapely.geometry import Point, LineString"
   ]
  },
  {
   "cell_type": "markdown",
   "metadata": {},
   "source": [
    "## Loading data\n"
   ]
  },
  {
   "cell_type": "code",
   "execution_count": 2,
   "metadata": {},
   "outputs": [
    {
     "data": {
      "text/html": [
       "<div>\n",
       "<style scoped>\n",
       "    .dataframe tbody tr th:only-of-type {\n",
       "        vertical-align: middle;\n",
       "    }\n",
       "\n",
       "    .dataframe tbody tr th {\n",
       "        vertical-align: top;\n",
       "    }\n",
       "\n",
       "    .dataframe thead th {\n",
       "        text-align: right;\n",
       "    }\n",
       "</style>\n",
       "<table border=\"1\" class=\"dataframe\">\n",
       "  <thead>\n",
       "    <tr style=\"text-align: right;\">\n",
       "      <th></th>\n",
       "      <th>stop_id</th>\n",
       "      <th>stop_code</th>\n",
       "      <th>stop_name</th>\n",
       "      <th>stop_lat</th>\n",
       "      <th>stop_lon</th>\n",
       "      <th>stop_url</th>\n",
       "      <th>location_type</th>\n",
       "      <th>parent_station</th>\n",
       "      <th>wheelchair_boarding</th>\n",
       "      <th>geometry</th>\n",
       "    </tr>\n",
       "  </thead>\n",
       "  <tbody>\n",
       "    <tr>\n",
       "      <th>0</th>\n",
       "      <td>STATION_M118</td>\n",
       "      <td>10118</td>\n",
       "      <td>STATION ANGRIGNON</td>\n",
       "      <td>45.446466</td>\n",
       "      <td>-73.603118</td>\n",
       "      <td>NaN</td>\n",
       "      <td>1</td>\n",
       "      <td>NaN</td>\n",
       "      <td>1</td>\n",
       "      <td>POINT (-73.60312 45.44647)</td>\n",
       "    </tr>\n",
       "    <tr>\n",
       "      <th>1</th>\n",
       "      <td>43</td>\n",
       "      <td>10118</td>\n",
       "      <td>Station Angrignon</td>\n",
       "      <td>45.446466</td>\n",
       "      <td>-73.603118</td>\n",
       "      <td>http://www.stm.info/fr/infos/reseaux/metro/ang...</td>\n",
       "      <td>0</td>\n",
       "      <td>STATION_M118</td>\n",
       "      <td>1</td>\n",
       "      <td>POINT (-73.60312 45.44647)</td>\n",
       "    </tr>\n",
       "    <tr>\n",
       "      <th>2</th>\n",
       "      <td>43-01</td>\n",
       "      <td>10118</td>\n",
       "      <td>Station Angrignon</td>\n",
       "      <td>45.446319</td>\n",
       "      <td>-73.603835</td>\n",
       "      <td>NaN</td>\n",
       "      <td>2</td>\n",
       "      <td>STATION_M118</td>\n",
       "      <td>1</td>\n",
       "      <td>POINT (-73.60384 45.44632)</td>\n",
       "    </tr>\n",
       "    <tr>\n",
       "      <th>3</th>\n",
       "      <td>STATION_M120</td>\n",
       "      <td>10120</td>\n",
       "      <td>STATION MONK</td>\n",
       "      <td>45.451158</td>\n",
       "      <td>-73.593242</td>\n",
       "      <td>NaN</td>\n",
       "      <td>1</td>\n",
       "      <td>NaN</td>\n",
       "      <td>2</td>\n",
       "      <td>POINT (-73.59324 45.45116)</td>\n",
       "    </tr>\n",
       "    <tr>\n",
       "      <th>4</th>\n",
       "      <td>42</td>\n",
       "      <td>10120</td>\n",
       "      <td>Station Monk</td>\n",
       "      <td>45.451158</td>\n",
       "      <td>-73.593242</td>\n",
       "      <td>http://www.stm.info/fr/infos/reseaux/metro/monk</td>\n",
       "      <td>0</td>\n",
       "      <td>STATION_M120</td>\n",
       "      <td>2</td>\n",
       "      <td>POINT (-73.59324 45.45116)</td>\n",
       "    </tr>\n",
       "    <tr>\n",
       "      <th>...</th>\n",
       "      <td>...</td>\n",
       "      <td>...</td>\n",
       "      <td>...</td>\n",
       "      <td>...</td>\n",
       "      <td>...</td>\n",
       "      <td>...</td>\n",
       "      <td>...</td>\n",
       "      <td>...</td>\n",
       "      <td>...</td>\n",
       "      <td>...</td>\n",
       "    </tr>\n",
       "    <tr>\n",
       "      <th>9039</th>\n",
       "      <td>60987</td>\n",
       "      <td>60987</td>\n",
       "      <td>Institut national de santé publique (Sainte-Marie</td>\n",
       "      <td>45.433289</td>\n",
       "      <td>-73.907005</td>\n",
       "      <td>https://www.stm.info/fr/recherche#stq=60987</td>\n",
       "      <td>0</td>\n",
       "      <td>NaN</td>\n",
       "      <td>2</td>\n",
       "      <td>POINT (-73.90700 45.43329)</td>\n",
       "    </tr>\n",
       "    <tr>\n",
       "      <th>9040</th>\n",
       "      <td>61121</td>\n",
       "      <td>61121</td>\n",
       "      <td>du Souvenir / du Boulevard (Hôpital Ste-Anne)</td>\n",
       "      <td>45.411347</td>\n",
       "      <td>-73.949240</td>\n",
       "      <td>https://www.stm.info/fr/recherche#stq=61121</td>\n",
       "      <td>0</td>\n",
       "      <td>NaN</td>\n",
       "      <td>2</td>\n",
       "      <td>POINT (-73.94924 45.41135)</td>\n",
       "    </tr>\n",
       "    <tr>\n",
       "      <th>9041</th>\n",
       "      <td>61253</td>\n",
       "      <td>61253</td>\n",
       "      <td>Lakeshore / Macdonald</td>\n",
       "      <td>45.403753</td>\n",
       "      <td>-73.940191</td>\n",
       "      <td>https://www.stm.info/fr/recherche#stq=61253</td>\n",
       "      <td>0</td>\n",
       "      <td>NaN</td>\n",
       "      <td>1</td>\n",
       "      <td>POINT (-73.94019 45.40375)</td>\n",
       "    </tr>\n",
       "    <tr>\n",
       "      <th>9042</th>\n",
       "      <td>61274</td>\n",
       "      <td>61274</td>\n",
       "      <td>SRB Pie-IX / Saint-Martin (zone B)</td>\n",
       "      <td>45.610343</td>\n",
       "      <td>-73.662089</td>\n",
       "      <td>https://www.stm.info/fr/recherche#stq=61274</td>\n",
       "      <td>0</td>\n",
       "      <td>NaN</td>\n",
       "      <td>1</td>\n",
       "      <td>POINT (-73.66209 45.61034)</td>\n",
       "    </tr>\n",
       "    <tr>\n",
       "      <th>9043</th>\n",
       "      <td>58596</td>\n",
       "      <td>58596</td>\n",
       "      <td>Gouin / No 18465</td>\n",
       "      <td>45.462695</td>\n",
       "      <td>-73.898241</td>\n",
       "      <td>https://www.stm.info/fr/recherche#stq=58596</td>\n",
       "      <td>0</td>\n",
       "      <td>NaN</td>\n",
       "      <td>2</td>\n",
       "      <td>POINT (-73.89824 45.46269)</td>\n",
       "    </tr>\n",
       "  </tbody>\n",
       "</table>\n",
       "<p>9044 rows × 10 columns</p>\n",
       "</div>"
      ],
      "text/plain": [
       "           stop_id  stop_code  \\\n",
       "0     STATION_M118      10118   \n",
       "1               43      10118   \n",
       "2            43-01      10118   \n",
       "3     STATION_M120      10120   \n",
       "4               42      10120   \n",
       "...            ...        ...   \n",
       "9039         60987      60987   \n",
       "9040         61121      61121   \n",
       "9041         61253      61253   \n",
       "9042         61274      61274   \n",
       "9043         58596      58596   \n",
       "\n",
       "                                              stop_name   stop_lat   stop_lon  \\\n",
       "0                                     STATION ANGRIGNON  45.446466 -73.603118   \n",
       "1                                     Station Angrignon  45.446466 -73.603118   \n",
       "2                                     Station Angrignon  45.446319 -73.603835   \n",
       "3                                          STATION MONK  45.451158 -73.593242   \n",
       "4                                          Station Monk  45.451158 -73.593242   \n",
       "...                                                 ...        ...        ...   \n",
       "9039  Institut national de santé publique (Sainte-Marie  45.433289 -73.907005   \n",
       "9040      du Souvenir / du Boulevard (Hôpital Ste-Anne)  45.411347 -73.949240   \n",
       "9041                              Lakeshore / Macdonald  45.403753 -73.940191   \n",
       "9042                 SRB Pie-IX / Saint-Martin (zone B)  45.610343 -73.662089   \n",
       "9043                                   Gouin / No 18465  45.462695 -73.898241   \n",
       "\n",
       "                                               stop_url  location_type  \\\n",
       "0                                                   NaN              1   \n",
       "1     http://www.stm.info/fr/infos/reseaux/metro/ang...              0   \n",
       "2                                                   NaN              2   \n",
       "3                                                   NaN              1   \n",
       "4       http://www.stm.info/fr/infos/reseaux/metro/monk              0   \n",
       "...                                                 ...            ...   \n",
       "9039        https://www.stm.info/fr/recherche#stq=60987              0   \n",
       "9040        https://www.stm.info/fr/recherche#stq=61121              0   \n",
       "9041        https://www.stm.info/fr/recherche#stq=61253              0   \n",
       "9042        https://www.stm.info/fr/recherche#stq=61274              0   \n",
       "9043        https://www.stm.info/fr/recherche#stq=58596              0   \n",
       "\n",
       "     parent_station  wheelchair_boarding                    geometry  \n",
       "0               NaN                    1  POINT (-73.60312 45.44647)  \n",
       "1      STATION_M118                    1  POINT (-73.60312 45.44647)  \n",
       "2      STATION_M118                    1  POINT (-73.60384 45.44632)  \n",
       "3               NaN                    2  POINT (-73.59324 45.45116)  \n",
       "4      STATION_M120                    2  POINT (-73.59324 45.45116)  \n",
       "...             ...                  ...                         ...  \n",
       "9039            NaN                    2  POINT (-73.90700 45.43329)  \n",
       "9040            NaN                    2  POINT (-73.94924 45.41135)  \n",
       "9041            NaN                    1  POINT (-73.94019 45.40375)  \n",
       "9042            NaN                    1  POINT (-73.66209 45.61034)  \n",
       "9043            NaN                    2  POINT (-73.89824 45.46269)  \n",
       "\n",
       "[9044 rows x 10 columns]"
      ]
     },
     "execution_count": 2,
     "metadata": {},
     "output_type": "execute_result"
    }
   ],
   "source": [
    "stops = pd.read_csv(\"./STM GTFS/stops.txt\", sep=\",\")\n",
    "stops = gpd.GeoDataFrame(\n",
    "    stops, geometry=gpd.points_from_xy(stops.stop_lon, stops.stop_lat)\n",
    ")\n",
    "stops[\"stop_code\"] = stops[\"stop_code\"].astype(int)\n",
    "\n",
    "stops"
   ]
  },
  {
   "cell_type": "code",
   "execution_count": 3,
   "metadata": {},
   "outputs": [],
   "source": [
    "NUM_ROUTES = 5\n",
    "distance_matrix = pd.read_json(\"distance_matrix.json\")"
   ]
  },
  {
   "cell_type": "code",
   "execution_count": 4,
   "metadata": {},
   "outputs": [
    {
     "data": {
      "text/html": [
       "<div>\n",
       "<style scoped>\n",
       "    .dataframe tbody tr th:only-of-type {\n",
       "        vertical-align: middle;\n",
       "    }\n",
       "\n",
       "    .dataframe tbody tr th {\n",
       "        vertical-align: top;\n",
       "    }\n",
       "\n",
       "    .dataframe thead th {\n",
       "        text-align: right;\n",
       "    }\n",
       "</style>\n",
       "<table border=\"1\" class=\"dataframe\">\n",
       "  <thead>\n",
       "    <tr style=\"text-align: right;\">\n",
       "      <th></th>\n",
       "      <th>51989</th>\n",
       "      <th>52053</th>\n",
       "      <th>52123</th>\n",
       "      <th>62063</th>\n",
       "      <th>52246</th>\n",
       "      <th>52321</th>\n",
       "      <th>52408</th>\n",
       "      <th>52447</th>\n",
       "      <th>52548</th>\n",
       "      <th>61743</th>\n",
       "      <th>...</th>\n",
       "      <th>53718</th>\n",
       "      <th>53719</th>\n",
       "      <th>53513</th>\n",
       "      <th>61728</th>\n",
       "      <th>62009</th>\n",
       "      <th>1</th>\n",
       "      <th>2</th>\n",
       "      <th>3</th>\n",
       "      <th>4</th>\n",
       "      <th>5</th>\n",
       "    </tr>\n",
       "  </thead>\n",
       "  <tbody>\n",
       "    <tr>\n",
       "      <th>51989</th>\n",
       "      <td>0.000000</td>\n",
       "      <td>0.263512</td>\n",
       "      <td>0.427379</td>\n",
       "      <td>0.672261</td>\n",
       "      <td>0.815025</td>\n",
       "      <td>1.072613</td>\n",
       "      <td>1.388016</td>\n",
       "      <td>1.477391</td>\n",
       "      <td>1.854303</td>\n",
       "      <td>2.156428</td>\n",
       "      <td>...</td>\n",
       "      <td>NaN</td>\n",
       "      <td>NaN</td>\n",
       "      <td>NaN</td>\n",
       "      <td>NaN</td>\n",
       "      <td>NaN</td>\n",
       "      <td>0.0</td>\n",
       "      <td>0.0</td>\n",
       "      <td>0.0</td>\n",
       "      <td>0.0</td>\n",
       "      <td>0.0</td>\n",
       "    </tr>\n",
       "    <tr>\n",
       "      <th>52053</th>\n",
       "      <td>0.263512</td>\n",
       "      <td>0.000000</td>\n",
       "      <td>0.163867</td>\n",
       "      <td>0.408749</td>\n",
       "      <td>0.551513</td>\n",
       "      <td>0.809101</td>\n",
       "      <td>1.124504</td>\n",
       "      <td>1.213879</td>\n",
       "      <td>1.590791</td>\n",
       "      <td>1.892915</td>\n",
       "      <td>...</td>\n",
       "      <td>NaN</td>\n",
       "      <td>NaN</td>\n",
       "      <td>NaN</td>\n",
       "      <td>NaN</td>\n",
       "      <td>NaN</td>\n",
       "      <td>0.0</td>\n",
       "      <td>0.0</td>\n",
       "      <td>0.0</td>\n",
       "      <td>0.0</td>\n",
       "      <td>0.0</td>\n",
       "    </tr>\n",
       "    <tr>\n",
       "      <th>52123</th>\n",
       "      <td>0.427379</td>\n",
       "      <td>0.163867</td>\n",
       "      <td>0.000000</td>\n",
       "      <td>0.244882</td>\n",
       "      <td>0.387646</td>\n",
       "      <td>0.645234</td>\n",
       "      <td>0.960637</td>\n",
       "      <td>1.050012</td>\n",
       "      <td>1.426924</td>\n",
       "      <td>1.729048</td>\n",
       "      <td>...</td>\n",
       "      <td>NaN</td>\n",
       "      <td>NaN</td>\n",
       "      <td>NaN</td>\n",
       "      <td>NaN</td>\n",
       "      <td>NaN</td>\n",
       "      <td>0.0</td>\n",
       "      <td>0.0</td>\n",
       "      <td>0.0</td>\n",
       "      <td>0.0</td>\n",
       "      <td>0.0</td>\n",
       "    </tr>\n",
       "    <tr>\n",
       "      <th>62063</th>\n",
       "      <td>0.672261</td>\n",
       "      <td>0.408749</td>\n",
       "      <td>0.244882</td>\n",
       "      <td>0.000000</td>\n",
       "      <td>0.142764</td>\n",
       "      <td>0.400352</td>\n",
       "      <td>0.715755</td>\n",
       "      <td>0.805130</td>\n",
       "      <td>1.182042</td>\n",
       "      <td>1.484166</td>\n",
       "      <td>...</td>\n",
       "      <td>NaN</td>\n",
       "      <td>NaN</td>\n",
       "      <td>NaN</td>\n",
       "      <td>NaN</td>\n",
       "      <td>NaN</td>\n",
       "      <td>0.0</td>\n",
       "      <td>0.0</td>\n",
       "      <td>0.0</td>\n",
       "      <td>0.0</td>\n",
       "      <td>0.0</td>\n",
       "    </tr>\n",
       "    <tr>\n",
       "      <th>52246</th>\n",
       "      <td>0.815025</td>\n",
       "      <td>0.551513</td>\n",
       "      <td>0.387646</td>\n",
       "      <td>0.142764</td>\n",
       "      <td>0.000000</td>\n",
       "      <td>0.257588</td>\n",
       "      <td>0.572991</td>\n",
       "      <td>0.662366</td>\n",
       "      <td>1.039278</td>\n",
       "      <td>1.341402</td>\n",
       "      <td>...</td>\n",
       "      <td>NaN</td>\n",
       "      <td>NaN</td>\n",
       "      <td>NaN</td>\n",
       "      <td>NaN</td>\n",
       "      <td>NaN</td>\n",
       "      <td>0.0</td>\n",
       "      <td>0.0</td>\n",
       "      <td>0.0</td>\n",
       "      <td>0.0</td>\n",
       "      <td>0.0</td>\n",
       "    </tr>\n",
       "    <tr>\n",
       "      <th>...</th>\n",
       "      <td>...</td>\n",
       "      <td>...</td>\n",
       "      <td>...</td>\n",
       "      <td>...</td>\n",
       "      <td>...</td>\n",
       "      <td>...</td>\n",
       "      <td>...</td>\n",
       "      <td>...</td>\n",
       "      <td>...</td>\n",
       "      <td>...</td>\n",
       "      <td>...</td>\n",
       "      <td>...</td>\n",
       "      <td>...</td>\n",
       "      <td>...</td>\n",
       "      <td>...</td>\n",
       "      <td>...</td>\n",
       "      <td>...</td>\n",
       "      <td>...</td>\n",
       "      <td>...</td>\n",
       "      <td>...</td>\n",
       "      <td>...</td>\n",
       "    </tr>\n",
       "    <tr>\n",
       "      <th>1</th>\n",
       "      <td>0.000000</td>\n",
       "      <td>0.000000</td>\n",
       "      <td>0.000000</td>\n",
       "      <td>0.000000</td>\n",
       "      <td>0.000000</td>\n",
       "      <td>0.000000</td>\n",
       "      <td>0.000000</td>\n",
       "      <td>0.000000</td>\n",
       "      <td>0.000000</td>\n",
       "      <td>0.000000</td>\n",
       "      <td>...</td>\n",
       "      <td>0.0</td>\n",
       "      <td>0.0</td>\n",
       "      <td>0.0</td>\n",
       "      <td>0.0</td>\n",
       "      <td>0.0</td>\n",
       "      <td>0.0</td>\n",
       "      <td>0.0</td>\n",
       "      <td>0.0</td>\n",
       "      <td>0.0</td>\n",
       "      <td>0.0</td>\n",
       "    </tr>\n",
       "    <tr>\n",
       "      <th>2</th>\n",
       "      <td>0.000000</td>\n",
       "      <td>0.000000</td>\n",
       "      <td>0.000000</td>\n",
       "      <td>0.000000</td>\n",
       "      <td>0.000000</td>\n",
       "      <td>0.000000</td>\n",
       "      <td>0.000000</td>\n",
       "      <td>0.000000</td>\n",
       "      <td>0.000000</td>\n",
       "      <td>0.000000</td>\n",
       "      <td>...</td>\n",
       "      <td>0.0</td>\n",
       "      <td>0.0</td>\n",
       "      <td>0.0</td>\n",
       "      <td>0.0</td>\n",
       "      <td>0.0</td>\n",
       "      <td>0.0</td>\n",
       "      <td>0.0</td>\n",
       "      <td>0.0</td>\n",
       "      <td>0.0</td>\n",
       "      <td>0.0</td>\n",
       "    </tr>\n",
       "    <tr>\n",
       "      <th>3</th>\n",
       "      <td>0.000000</td>\n",
       "      <td>0.000000</td>\n",
       "      <td>0.000000</td>\n",
       "      <td>0.000000</td>\n",
       "      <td>0.000000</td>\n",
       "      <td>0.000000</td>\n",
       "      <td>0.000000</td>\n",
       "      <td>0.000000</td>\n",
       "      <td>0.000000</td>\n",
       "      <td>0.000000</td>\n",
       "      <td>...</td>\n",
       "      <td>0.0</td>\n",
       "      <td>0.0</td>\n",
       "      <td>0.0</td>\n",
       "      <td>0.0</td>\n",
       "      <td>0.0</td>\n",
       "      <td>0.0</td>\n",
       "      <td>0.0</td>\n",
       "      <td>0.0</td>\n",
       "      <td>0.0</td>\n",
       "      <td>0.0</td>\n",
       "    </tr>\n",
       "    <tr>\n",
       "      <th>4</th>\n",
       "      <td>0.000000</td>\n",
       "      <td>0.000000</td>\n",
       "      <td>0.000000</td>\n",
       "      <td>0.000000</td>\n",
       "      <td>0.000000</td>\n",
       "      <td>0.000000</td>\n",
       "      <td>0.000000</td>\n",
       "      <td>0.000000</td>\n",
       "      <td>0.000000</td>\n",
       "      <td>0.000000</td>\n",
       "      <td>...</td>\n",
       "      <td>0.0</td>\n",
       "      <td>0.0</td>\n",
       "      <td>0.0</td>\n",
       "      <td>0.0</td>\n",
       "      <td>0.0</td>\n",
       "      <td>0.0</td>\n",
       "      <td>0.0</td>\n",
       "      <td>0.0</td>\n",
       "      <td>0.0</td>\n",
       "      <td>0.0</td>\n",
       "    </tr>\n",
       "    <tr>\n",
       "      <th>5</th>\n",
       "      <td>0.000000</td>\n",
       "      <td>0.000000</td>\n",
       "      <td>0.000000</td>\n",
       "      <td>0.000000</td>\n",
       "      <td>0.000000</td>\n",
       "      <td>0.000000</td>\n",
       "      <td>0.000000</td>\n",
       "      <td>0.000000</td>\n",
       "      <td>0.000000</td>\n",
       "      <td>0.000000</td>\n",
       "      <td>...</td>\n",
       "      <td>0.0</td>\n",
       "      <td>0.0</td>\n",
       "      <td>0.0</td>\n",
       "      <td>0.0</td>\n",
       "      <td>0.0</td>\n",
       "      <td>0.0</td>\n",
       "      <td>0.0</td>\n",
       "      <td>0.0</td>\n",
       "      <td>0.0</td>\n",
       "      <td>0.0</td>\n",
       "    </tr>\n",
       "  </tbody>\n",
       "</table>\n",
       "<p>178 rows × 178 columns</p>\n",
       "</div>"
      ],
      "text/plain": [
       "          51989     52053     52123     62063     52246     52321     52408  \\\n",
       "51989  0.000000  0.263512  0.427379  0.672261  0.815025  1.072613  1.388016   \n",
       "52053  0.263512  0.000000  0.163867  0.408749  0.551513  0.809101  1.124504   \n",
       "52123  0.427379  0.163867  0.000000  0.244882  0.387646  0.645234  0.960637   \n",
       "62063  0.672261  0.408749  0.244882  0.000000  0.142764  0.400352  0.715755   \n",
       "52246  0.815025  0.551513  0.387646  0.142764  0.000000  0.257588  0.572991   \n",
       "...         ...       ...       ...       ...       ...       ...       ...   \n",
       "1      0.000000  0.000000  0.000000  0.000000  0.000000  0.000000  0.000000   \n",
       "2      0.000000  0.000000  0.000000  0.000000  0.000000  0.000000  0.000000   \n",
       "3      0.000000  0.000000  0.000000  0.000000  0.000000  0.000000  0.000000   \n",
       "4      0.000000  0.000000  0.000000  0.000000  0.000000  0.000000  0.000000   \n",
       "5      0.000000  0.000000  0.000000  0.000000  0.000000  0.000000  0.000000   \n",
       "\n",
       "          52447     52548     61743  ...  53718  53719  53513  61728  62009  \\\n",
       "51989  1.477391  1.854303  2.156428  ...    NaN    NaN    NaN    NaN    NaN   \n",
       "52053  1.213879  1.590791  1.892915  ...    NaN    NaN    NaN    NaN    NaN   \n",
       "52123  1.050012  1.426924  1.729048  ...    NaN    NaN    NaN    NaN    NaN   \n",
       "62063  0.805130  1.182042  1.484166  ...    NaN    NaN    NaN    NaN    NaN   \n",
       "52246  0.662366  1.039278  1.341402  ...    NaN    NaN    NaN    NaN    NaN   \n",
       "...         ...       ...       ...  ...    ...    ...    ...    ...    ...   \n",
       "1      0.000000  0.000000  0.000000  ...    0.0    0.0    0.0    0.0    0.0   \n",
       "2      0.000000  0.000000  0.000000  ...    0.0    0.0    0.0    0.0    0.0   \n",
       "3      0.000000  0.000000  0.000000  ...    0.0    0.0    0.0    0.0    0.0   \n",
       "4      0.000000  0.000000  0.000000  ...    0.0    0.0    0.0    0.0    0.0   \n",
       "5      0.000000  0.000000  0.000000  ...    0.0    0.0    0.0    0.0    0.0   \n",
       "\n",
       "       1      2      3      4      5      \n",
       "51989    0.0    0.0    0.0    0.0    0.0  \n",
       "52053    0.0    0.0    0.0    0.0    0.0  \n",
       "52123    0.0    0.0    0.0    0.0    0.0  \n",
       "62063    0.0    0.0    0.0    0.0    0.0  \n",
       "52246    0.0    0.0    0.0    0.0    0.0  \n",
       "...      ...    ...    ...    ...    ...  \n",
       "1        0.0    0.0    0.0    0.0    0.0  \n",
       "2        0.0    0.0    0.0    0.0    0.0  \n",
       "3        0.0    0.0    0.0    0.0    0.0  \n",
       "4        0.0    0.0    0.0    0.0    0.0  \n",
       "5        0.0    0.0    0.0    0.0    0.0  \n",
       "\n",
       "[178 rows x 178 columns]"
      ]
     },
     "execution_count": 4,
     "metadata": {},
     "output_type": "execute_result"
    }
   ],
   "source": [
    "# add depot to distance matrix\n",
    "for i in range(NUM_ROUTES):\n",
    "    distance_matrix.loc[i+1] = 0.0\n",
    "    distance_matrix[i+1] = 0.0\n",
    "\n",
    "distance_matrix"
   ]
  },
  {
   "cell_type": "code",
   "execution_count": 5,
   "metadata": {},
   "outputs": [
    {
     "data": {
      "text/plain": [
       "28.9222631044"
      ]
     },
     "execution_count": 5,
     "metadata": {},
     "output_type": "execute_result"
    }
   ],
   "source": [
    "np.nanmax(distance_matrix.to_numpy())"
   ]
  },
  {
   "cell_type": "code",
   "execution_count": 6,
   "metadata": {},
   "outputs": [],
   "source": [
    "distance_matrix.fillna(29, inplace=True)"
   ]
  },
  {
   "cell_type": "code",
   "execution_count": 7,
   "metadata": {},
   "outputs": [
    {
     "data": {
      "text/html": [
       "<div>\n",
       "<style scoped>\n",
       "    .dataframe tbody tr th:only-of-type {\n",
       "        vertical-align: middle;\n",
       "    }\n",
       "\n",
       "    .dataframe tbody tr th {\n",
       "        vertical-align: top;\n",
       "    }\n",
       "\n",
       "    .dataframe thead th {\n",
       "        text-align: right;\n",
       "    }\n",
       "</style>\n",
       "<table border=\"1\" class=\"dataframe\">\n",
       "  <thead>\n",
       "    <tr style=\"text-align: right;\">\n",
       "      <th></th>\n",
       "      <th>51989</th>\n",
       "      <th>52053</th>\n",
       "      <th>52123</th>\n",
       "      <th>62063</th>\n",
       "      <th>52246</th>\n",
       "      <th>52321</th>\n",
       "      <th>52408</th>\n",
       "      <th>52447</th>\n",
       "      <th>52548</th>\n",
       "      <th>61743</th>\n",
       "      <th>...</th>\n",
       "      <th>53718</th>\n",
       "      <th>53719</th>\n",
       "      <th>53513</th>\n",
       "      <th>61728</th>\n",
       "      <th>62009</th>\n",
       "      <th>1</th>\n",
       "      <th>2</th>\n",
       "      <th>3</th>\n",
       "      <th>4</th>\n",
       "      <th>5</th>\n",
       "    </tr>\n",
       "  </thead>\n",
       "  <tbody>\n",
       "    <tr>\n",
       "      <th>51989</th>\n",
       "      <td>0.000000</td>\n",
       "      <td>0.263512</td>\n",
       "      <td>0.427379</td>\n",
       "      <td>0.672261</td>\n",
       "      <td>0.815025</td>\n",
       "      <td>1.072613</td>\n",
       "      <td>1.388016</td>\n",
       "      <td>1.477391</td>\n",
       "      <td>1.854303</td>\n",
       "      <td>2.156428</td>\n",
       "      <td>...</td>\n",
       "      <td>29.0</td>\n",
       "      <td>29.0</td>\n",
       "      <td>29.0</td>\n",
       "      <td>29.0</td>\n",
       "      <td>29.0</td>\n",
       "      <td>0.0</td>\n",
       "      <td>0.0</td>\n",
       "      <td>0.0</td>\n",
       "      <td>0.0</td>\n",
       "      <td>0.0</td>\n",
       "    </tr>\n",
       "    <tr>\n",
       "      <th>52053</th>\n",
       "      <td>0.263512</td>\n",
       "      <td>0.000000</td>\n",
       "      <td>0.163867</td>\n",
       "      <td>0.408749</td>\n",
       "      <td>0.551513</td>\n",
       "      <td>0.809101</td>\n",
       "      <td>1.124504</td>\n",
       "      <td>1.213879</td>\n",
       "      <td>1.590791</td>\n",
       "      <td>1.892915</td>\n",
       "      <td>...</td>\n",
       "      <td>29.0</td>\n",
       "      <td>29.0</td>\n",
       "      <td>29.0</td>\n",
       "      <td>29.0</td>\n",
       "      <td>29.0</td>\n",
       "      <td>0.0</td>\n",
       "      <td>0.0</td>\n",
       "      <td>0.0</td>\n",
       "      <td>0.0</td>\n",
       "      <td>0.0</td>\n",
       "    </tr>\n",
       "    <tr>\n",
       "      <th>52123</th>\n",
       "      <td>0.427379</td>\n",
       "      <td>0.163867</td>\n",
       "      <td>0.000000</td>\n",
       "      <td>0.244882</td>\n",
       "      <td>0.387646</td>\n",
       "      <td>0.645234</td>\n",
       "      <td>0.960637</td>\n",
       "      <td>1.050012</td>\n",
       "      <td>1.426924</td>\n",
       "      <td>1.729048</td>\n",
       "      <td>...</td>\n",
       "      <td>29.0</td>\n",
       "      <td>29.0</td>\n",
       "      <td>29.0</td>\n",
       "      <td>29.0</td>\n",
       "      <td>29.0</td>\n",
       "      <td>0.0</td>\n",
       "      <td>0.0</td>\n",
       "      <td>0.0</td>\n",
       "      <td>0.0</td>\n",
       "      <td>0.0</td>\n",
       "    </tr>\n",
       "    <tr>\n",
       "      <th>62063</th>\n",
       "      <td>0.672261</td>\n",
       "      <td>0.408749</td>\n",
       "      <td>0.244882</td>\n",
       "      <td>0.000000</td>\n",
       "      <td>0.142764</td>\n",
       "      <td>0.400352</td>\n",
       "      <td>0.715755</td>\n",
       "      <td>0.805130</td>\n",
       "      <td>1.182042</td>\n",
       "      <td>1.484166</td>\n",
       "      <td>...</td>\n",
       "      <td>29.0</td>\n",
       "      <td>29.0</td>\n",
       "      <td>29.0</td>\n",
       "      <td>29.0</td>\n",
       "      <td>29.0</td>\n",
       "      <td>0.0</td>\n",
       "      <td>0.0</td>\n",
       "      <td>0.0</td>\n",
       "      <td>0.0</td>\n",
       "      <td>0.0</td>\n",
       "    </tr>\n",
       "    <tr>\n",
       "      <th>52246</th>\n",
       "      <td>0.815025</td>\n",
       "      <td>0.551513</td>\n",
       "      <td>0.387646</td>\n",
       "      <td>0.142764</td>\n",
       "      <td>0.000000</td>\n",
       "      <td>0.257588</td>\n",
       "      <td>0.572991</td>\n",
       "      <td>0.662366</td>\n",
       "      <td>1.039278</td>\n",
       "      <td>1.341402</td>\n",
       "      <td>...</td>\n",
       "      <td>29.0</td>\n",
       "      <td>29.0</td>\n",
       "      <td>29.0</td>\n",
       "      <td>29.0</td>\n",
       "      <td>29.0</td>\n",
       "      <td>0.0</td>\n",
       "      <td>0.0</td>\n",
       "      <td>0.0</td>\n",
       "      <td>0.0</td>\n",
       "      <td>0.0</td>\n",
       "    </tr>\n",
       "    <tr>\n",
       "      <th>...</th>\n",
       "      <td>...</td>\n",
       "      <td>...</td>\n",
       "      <td>...</td>\n",
       "      <td>...</td>\n",
       "      <td>...</td>\n",
       "      <td>...</td>\n",
       "      <td>...</td>\n",
       "      <td>...</td>\n",
       "      <td>...</td>\n",
       "      <td>...</td>\n",
       "      <td>...</td>\n",
       "      <td>...</td>\n",
       "      <td>...</td>\n",
       "      <td>...</td>\n",
       "      <td>...</td>\n",
       "      <td>...</td>\n",
       "      <td>...</td>\n",
       "      <td>...</td>\n",
       "      <td>...</td>\n",
       "      <td>...</td>\n",
       "      <td>...</td>\n",
       "    </tr>\n",
       "    <tr>\n",
       "      <th>1</th>\n",
       "      <td>0.000000</td>\n",
       "      <td>0.000000</td>\n",
       "      <td>0.000000</td>\n",
       "      <td>0.000000</td>\n",
       "      <td>0.000000</td>\n",
       "      <td>0.000000</td>\n",
       "      <td>0.000000</td>\n",
       "      <td>0.000000</td>\n",
       "      <td>0.000000</td>\n",
       "      <td>0.000000</td>\n",
       "      <td>...</td>\n",
       "      <td>0.0</td>\n",
       "      <td>0.0</td>\n",
       "      <td>0.0</td>\n",
       "      <td>0.0</td>\n",
       "      <td>0.0</td>\n",
       "      <td>0.0</td>\n",
       "      <td>0.0</td>\n",
       "      <td>0.0</td>\n",
       "      <td>0.0</td>\n",
       "      <td>0.0</td>\n",
       "    </tr>\n",
       "    <tr>\n",
       "      <th>2</th>\n",
       "      <td>0.000000</td>\n",
       "      <td>0.000000</td>\n",
       "      <td>0.000000</td>\n",
       "      <td>0.000000</td>\n",
       "      <td>0.000000</td>\n",
       "      <td>0.000000</td>\n",
       "      <td>0.000000</td>\n",
       "      <td>0.000000</td>\n",
       "      <td>0.000000</td>\n",
       "      <td>0.000000</td>\n",
       "      <td>...</td>\n",
       "      <td>0.0</td>\n",
       "      <td>0.0</td>\n",
       "      <td>0.0</td>\n",
       "      <td>0.0</td>\n",
       "      <td>0.0</td>\n",
       "      <td>0.0</td>\n",
       "      <td>0.0</td>\n",
       "      <td>0.0</td>\n",
       "      <td>0.0</td>\n",
       "      <td>0.0</td>\n",
       "    </tr>\n",
       "    <tr>\n",
       "      <th>3</th>\n",
       "      <td>0.000000</td>\n",
       "      <td>0.000000</td>\n",
       "      <td>0.000000</td>\n",
       "      <td>0.000000</td>\n",
       "      <td>0.000000</td>\n",
       "      <td>0.000000</td>\n",
       "      <td>0.000000</td>\n",
       "      <td>0.000000</td>\n",
       "      <td>0.000000</td>\n",
       "      <td>0.000000</td>\n",
       "      <td>...</td>\n",
       "      <td>0.0</td>\n",
       "      <td>0.0</td>\n",
       "      <td>0.0</td>\n",
       "      <td>0.0</td>\n",
       "      <td>0.0</td>\n",
       "      <td>0.0</td>\n",
       "      <td>0.0</td>\n",
       "      <td>0.0</td>\n",
       "      <td>0.0</td>\n",
       "      <td>0.0</td>\n",
       "    </tr>\n",
       "    <tr>\n",
       "      <th>4</th>\n",
       "      <td>0.000000</td>\n",
       "      <td>0.000000</td>\n",
       "      <td>0.000000</td>\n",
       "      <td>0.000000</td>\n",
       "      <td>0.000000</td>\n",
       "      <td>0.000000</td>\n",
       "      <td>0.000000</td>\n",
       "      <td>0.000000</td>\n",
       "      <td>0.000000</td>\n",
       "      <td>0.000000</td>\n",
       "      <td>...</td>\n",
       "      <td>0.0</td>\n",
       "      <td>0.0</td>\n",
       "      <td>0.0</td>\n",
       "      <td>0.0</td>\n",
       "      <td>0.0</td>\n",
       "      <td>0.0</td>\n",
       "      <td>0.0</td>\n",
       "      <td>0.0</td>\n",
       "      <td>0.0</td>\n",
       "      <td>0.0</td>\n",
       "    </tr>\n",
       "    <tr>\n",
       "      <th>5</th>\n",
       "      <td>0.000000</td>\n",
       "      <td>0.000000</td>\n",
       "      <td>0.000000</td>\n",
       "      <td>0.000000</td>\n",
       "      <td>0.000000</td>\n",
       "      <td>0.000000</td>\n",
       "      <td>0.000000</td>\n",
       "      <td>0.000000</td>\n",
       "      <td>0.000000</td>\n",
       "      <td>0.000000</td>\n",
       "      <td>...</td>\n",
       "      <td>0.0</td>\n",
       "      <td>0.0</td>\n",
       "      <td>0.0</td>\n",
       "      <td>0.0</td>\n",
       "      <td>0.0</td>\n",
       "      <td>0.0</td>\n",
       "      <td>0.0</td>\n",
       "      <td>0.0</td>\n",
       "      <td>0.0</td>\n",
       "      <td>0.0</td>\n",
       "    </tr>\n",
       "  </tbody>\n",
       "</table>\n",
       "<p>178 rows × 178 columns</p>\n",
       "</div>"
      ],
      "text/plain": [
       "          51989     52053     52123     62063     52246     52321     52408  \\\n",
       "51989  0.000000  0.263512  0.427379  0.672261  0.815025  1.072613  1.388016   \n",
       "52053  0.263512  0.000000  0.163867  0.408749  0.551513  0.809101  1.124504   \n",
       "52123  0.427379  0.163867  0.000000  0.244882  0.387646  0.645234  0.960637   \n",
       "62063  0.672261  0.408749  0.244882  0.000000  0.142764  0.400352  0.715755   \n",
       "52246  0.815025  0.551513  0.387646  0.142764  0.000000  0.257588  0.572991   \n",
       "...         ...       ...       ...       ...       ...       ...       ...   \n",
       "1      0.000000  0.000000  0.000000  0.000000  0.000000  0.000000  0.000000   \n",
       "2      0.000000  0.000000  0.000000  0.000000  0.000000  0.000000  0.000000   \n",
       "3      0.000000  0.000000  0.000000  0.000000  0.000000  0.000000  0.000000   \n",
       "4      0.000000  0.000000  0.000000  0.000000  0.000000  0.000000  0.000000   \n",
       "5      0.000000  0.000000  0.000000  0.000000  0.000000  0.000000  0.000000   \n",
       "\n",
       "          52447     52548     61743  ...  53718  53719  53513  61728  62009  \\\n",
       "51989  1.477391  1.854303  2.156428  ...   29.0   29.0   29.0   29.0   29.0   \n",
       "52053  1.213879  1.590791  1.892915  ...   29.0   29.0   29.0   29.0   29.0   \n",
       "52123  1.050012  1.426924  1.729048  ...   29.0   29.0   29.0   29.0   29.0   \n",
       "62063  0.805130  1.182042  1.484166  ...   29.0   29.0   29.0   29.0   29.0   \n",
       "52246  0.662366  1.039278  1.341402  ...   29.0   29.0   29.0   29.0   29.0   \n",
       "...         ...       ...       ...  ...    ...    ...    ...    ...    ...   \n",
       "1      0.000000  0.000000  0.000000  ...    0.0    0.0    0.0    0.0    0.0   \n",
       "2      0.000000  0.000000  0.000000  ...    0.0    0.0    0.0    0.0    0.0   \n",
       "3      0.000000  0.000000  0.000000  ...    0.0    0.0    0.0    0.0    0.0   \n",
       "4      0.000000  0.000000  0.000000  ...    0.0    0.0    0.0    0.0    0.0   \n",
       "5      0.000000  0.000000  0.000000  ...    0.0    0.0    0.0    0.0    0.0   \n",
       "\n",
       "       1      2      3      4      5      \n",
       "51989    0.0    0.0    0.0    0.0    0.0  \n",
       "52053    0.0    0.0    0.0    0.0    0.0  \n",
       "52123    0.0    0.0    0.0    0.0    0.0  \n",
       "62063    0.0    0.0    0.0    0.0    0.0  \n",
       "52246    0.0    0.0    0.0    0.0    0.0  \n",
       "...      ...    ...    ...    ...    ...  \n",
       "1        0.0    0.0    0.0    0.0    0.0  \n",
       "2        0.0    0.0    0.0    0.0    0.0  \n",
       "3        0.0    0.0    0.0    0.0    0.0  \n",
       "4        0.0    0.0    0.0    0.0    0.0  \n",
       "5        0.0    0.0    0.0    0.0    0.0  \n",
       "\n",
       "[178 rows x 178 columns]"
      ]
     },
     "execution_count": 7,
     "metadata": {},
     "output_type": "execute_result"
    }
   ],
   "source": [
    "distance_matrix"
   ]
  },
  {
   "cell_type": "code",
   "execution_count": 8,
   "metadata": {},
   "outputs": [],
   "source": [
    "nodes = list(distance_matrix.index)\n",
    "num_nodes = len(nodes)"
   ]
  },
  {
   "cell_type": "markdown",
   "metadata": {},
   "source": [
    "# Vehicle Routing - Bus Route Optimization"
   ]
  },
  {
   "cell_type": "code",
   "execution_count": 9,
   "metadata": {},
   "outputs": [
    {
     "name": "stdout",
     "output_type": "stream",
     "text": [
      "Set parameter Username\n"
     ]
    },
    {
     "name": "stderr",
     "output_type": "stream",
     "text": [
      "INFO:gurobipy.gurobipy:Set parameter Username\n"
     ]
    },
    {
     "name": "stdout",
     "output_type": "stream",
     "text": [
      "Academic license - for non-commercial use only - expires 2024-08-30\n"
     ]
    },
    {
     "name": "stderr",
     "output_type": "stream",
     "text": [
      "INFO:gurobipy.gurobipy:Academic license - for non-commercial use only - expires 2024-08-30\n"
     ]
    },
    {
     "name": "stdout",
     "output_type": "stream",
     "text": [
      "Set parameter MIPGap to value 0.3\n"
     ]
    },
    {
     "name": "stderr",
     "output_type": "stream",
     "text": [
      "INFO:gurobipy.gurobipy:Set parameter MIPGap to value 0.3\n"
     ]
    },
    {
     "name": "stdout",
     "output_type": "stream",
     "text": [
      "Set parameter TimeLimit to value 30\n"
     ]
    },
    {
     "name": "stderr",
     "output_type": "stream",
     "text": [
      "INFO:gurobipy.gurobipy:Set parameter TimeLimit to value 30\n"
     ]
    },
    {
     "name": "stdout",
     "output_type": "stream",
     "text": [
      "Gurobi Optimizer version 10.0.2 build v10.0.2rc0 (win64)\n"
     ]
    },
    {
     "name": "stderr",
     "output_type": "stream",
     "text": [
      "INFO:gurobipy.gurobipy:Gurobi Optimizer version 10.0.2 build v10.0.2rc0 (win64)\n"
     ]
    },
    {
     "name": "stdout",
     "output_type": "stream",
     "text": [
      "\n"
     ]
    },
    {
     "name": "stderr",
     "output_type": "stream",
     "text": [
      "INFO:gurobipy.gurobipy:\n"
     ]
    },
    {
     "name": "stdout",
     "output_type": "stream",
     "text": [
      "CPU model: Intel(R) Core(TM) i7-9750H CPU @ 2.60GHz, instruction set [SSE2|AVX|AVX2]\n"
     ]
    },
    {
     "name": "stderr",
     "output_type": "stream",
     "text": [
      "INFO:gurobipy.gurobipy:CPU model: Intel(R) Core(TM) i7-9750H CPU @ 2.60GHz, instruction set [SSE2|AVX|AVX2]\n"
     ]
    },
    {
     "name": "stdout",
     "output_type": "stream",
     "text": [
      "Thread count: 6 physical cores, 12 logical processors, using up to 12 threads\n"
     ]
    },
    {
     "name": "stderr",
     "output_type": "stream",
     "text": [
      "INFO:gurobipy.gurobipy:Thread count: 6 physical cores, 12 logical processors, using up to 12 threads\n"
     ]
    },
    {
     "name": "stdout",
     "output_type": "stream",
     "text": [
      "\n"
     ]
    },
    {
     "name": "stderr",
     "output_type": "stream",
     "text": [
      "INFO:gurobipy.gurobipy:\n"
     ]
    },
    {
     "name": "stdout",
     "output_type": "stream",
     "text": [
      "Optimize a model with 31686 rows, 31862 columns and 156646 nonzeros\n"
     ]
    },
    {
     "name": "stderr",
     "output_type": "stream",
     "text": [
      "INFO:gurobipy.gurobipy:Optimize a model with 31686 rows, 31862 columns and 156646 nonzeros\n"
     ]
    },
    {
     "name": "stdout",
     "output_type": "stream",
     "text": [
      "Model fingerprint: 0x28869a6d\n"
     ]
    },
    {
     "name": "stderr",
     "output_type": "stream",
     "text": [
      "INFO:gurobipy.gurobipy:Model fingerprint: 0x28869a6d\n"
     ]
    },
    {
     "name": "stdout",
     "output_type": "stream",
     "text": [
      "Variable types: 0 continuous, 31862 integer (31684 binary)\n"
     ]
    },
    {
     "name": "stderr",
     "output_type": "stream",
     "text": [
      "INFO:gurobipy.gurobipy:Variable types: 0 continuous, 31862 integer (31684 binary)\n"
     ]
    },
    {
     "name": "stdout",
     "output_type": "stream",
     "text": [
      "Coefficient statistics:\n"
     ]
    },
    {
     "name": "stderr",
     "output_type": "stream",
     "text": [
      "INFO:gurobipy.gurobipy:Coefficient statistics:\n"
     ]
    },
    {
     "name": "stdout",
     "output_type": "stream",
     "text": [
      "  Matrix range     [1e+00, 2e+02]\n"
     ]
    },
    {
     "name": "stderr",
     "output_type": "stream",
     "text": [
      "INFO:gurobipy.gurobipy:  Matrix range     [1e+00, 2e+02]\n"
     ]
    },
    {
     "name": "stdout",
     "output_type": "stream",
     "text": [
      "  Objective range  [7e-02, 3e+01]\n"
     ]
    },
    {
     "name": "stderr",
     "output_type": "stream",
     "text": [
      "INFO:gurobipy.gurobipy:  Objective range  [7e-02, 3e+01]\n"
     ]
    },
    {
     "name": "stdout",
     "output_type": "stream",
     "text": [
      "  Bounds range     [1e+00, 2e+02]\n"
     ]
    },
    {
     "name": "stderr",
     "output_type": "stream",
     "text": [
      "INFO:gurobipy.gurobipy:  Bounds range     [1e+00, 2e+02]\n"
     ]
    },
    {
     "name": "stdout",
     "output_type": "stream",
     "text": [
      "  RHS range        [1e+00, 2e+02]\n"
     ]
    },
    {
     "name": "stderr",
     "output_type": "stream",
     "text": [
      "INFO:gurobipy.gurobipy:  RHS range        [1e+00, 2e+02]\n"
     ]
    },
    {
     "name": "stdout",
     "output_type": "stream",
     "text": [
      "Presolve removed 178 rows and 179 columns\n"
     ]
    },
    {
     "name": "stderr",
     "output_type": "stream",
     "text": [
      "INFO:gurobipy.gurobipy:Presolve removed 178 rows and 179 columns\n"
     ]
    },
    {
     "name": "stdout",
     "output_type": "stream",
     "text": [
      "Presolve time: 0.33s\n"
     ]
    },
    {
     "name": "stderr",
     "output_type": "stream",
     "text": [
      "INFO:gurobipy.gurobipy:Presolve time: 0.33s\n"
     ]
    },
    {
     "name": "stdout",
     "output_type": "stream",
     "text": [
      "Presolved: 31508 rows, 31683 columns, 156468 nonzeros\n"
     ]
    },
    {
     "name": "stderr",
     "output_type": "stream",
     "text": [
      "INFO:gurobipy.gurobipy:Presolved: 31508 rows, 31683 columns, 156468 nonzeros\n"
     ]
    },
    {
     "name": "stdout",
     "output_type": "stream",
     "text": [
      "Variable types: 0 continuous, 31683 integer (31506 binary)\n"
     ]
    },
    {
     "name": "stderr",
     "output_type": "stream",
     "text": [
      "INFO:gurobipy.gurobipy:Variable types: 0 continuous, 31683 integer (31506 binary)\n"
     ]
    },
    {
     "name": "stdout",
     "output_type": "stream",
     "text": [
      "Deterministic concurrent LP optimizer: primal and dual simplex\n"
     ]
    },
    {
     "name": "stderr",
     "output_type": "stream",
     "text": [
      "INFO:gurobipy.gurobipy:Deterministic concurrent LP optimizer: primal and dual simplex\n"
     ]
    },
    {
     "name": "stdout",
     "output_type": "stream",
     "text": [
      "Showing first log only...\n"
     ]
    },
    {
     "name": "stderr",
     "output_type": "stream",
     "text": [
      "INFO:gurobipy.gurobipy:Showing first log only...\n"
     ]
    },
    {
     "name": "stdout",
     "output_type": "stream",
     "text": [
      "\n"
     ]
    },
    {
     "name": "stderr",
     "output_type": "stream",
     "text": [
      "INFO:gurobipy.gurobipy:\n"
     ]
    },
    {
     "name": "stdout",
     "output_type": "stream",
     "text": [
      "Concurrent spin time: 0.01s\n"
     ]
    },
    {
     "name": "stderr",
     "output_type": "stream",
     "text": [
      "INFO:gurobipy.gurobipy:Concurrent spin time: 0.01s\n"
     ]
    },
    {
     "name": "stdout",
     "output_type": "stream",
     "text": [
      "\n"
     ]
    },
    {
     "name": "stderr",
     "output_type": "stream",
     "text": [
      "INFO:gurobipy.gurobipy:\n"
     ]
    },
    {
     "name": "stdout",
     "output_type": "stream",
     "text": [
      "Solved with primal simplex\n"
     ]
    },
    {
     "name": "stderr",
     "output_type": "stream",
     "text": [
      "INFO:gurobipy.gurobipy:Solved with primal simplex\n"
     ]
    },
    {
     "name": "stdout",
     "output_type": "stream",
     "text": [
      "\n"
     ]
    },
    {
     "name": "stderr",
     "output_type": "stream",
     "text": [
      "INFO:gurobipy.gurobipy:\n"
     ]
    },
    {
     "name": "stdout",
     "output_type": "stream",
     "text": [
      "Use crossover to convert LP symmetric solution to basic solution...\n"
     ]
    },
    {
     "name": "stderr",
     "output_type": "stream",
     "text": [
      "INFO:gurobipy.gurobipy:Use crossover to convert LP symmetric solution to basic solution...\n"
     ]
    },
    {
     "name": "stdout",
     "output_type": "stream",
     "text": [
      "\n"
     ]
    },
    {
     "name": "stderr",
     "output_type": "stream",
     "text": [
      "INFO:gurobipy.gurobipy:\n"
     ]
    },
    {
     "name": "stdout",
     "output_type": "stream",
     "text": [
      "Root relaxation: objective 4.015927e+01, 1507 iterations, 0.29 seconds (0.12 work units)\n"
     ]
    },
    {
     "name": "stderr",
     "output_type": "stream",
     "text": [
      "INFO:gurobipy.gurobipy:Root relaxation: objective 4.015927e+01, 1507 iterations, 0.29 seconds (0.12 work units)\n"
     ]
    },
    {
     "name": "stdout",
     "output_type": "stream",
     "text": [
      "\n"
     ]
    },
    {
     "name": "stderr",
     "output_type": "stream",
     "text": [
      "INFO:gurobipy.gurobipy:\n"
     ]
    },
    {
     "name": "stdout",
     "output_type": "stream",
     "text": [
      "    Nodes    |    Current Node    |     Objective Bounds      |     Work\n"
     ]
    },
    {
     "name": "stderr",
     "output_type": "stream",
     "text": [
      "INFO:gurobipy.gurobipy:    Nodes    |    Current Node    |     Objective Bounds      |     Work\n"
     ]
    },
    {
     "name": "stdout",
     "output_type": "stream",
     "text": [
      " Expl Unexpl |  Obj  Depth IntInf | Incumbent    BestBd   Gap | It/Node Time\n"
     ]
    },
    {
     "name": "stderr",
     "output_type": "stream",
     "text": [
      "INFO:gurobipy.gurobipy: Expl Unexpl |  Obj  Depth IntInf | Incumbent    BestBd   Gap | It/Node Time\n"
     ]
    },
    {
     "name": "stdout",
     "output_type": "stream",
     "text": [
      "\n"
     ]
    },
    {
     "name": "stderr",
     "output_type": "stream",
     "text": [
      "INFO:gurobipy.gurobipy:\n"
     ]
    },
    {
     "name": "stdout",
     "output_type": "stream",
     "text": [
      "     0     0   40.15927    0  374          -   40.15927      -     -    1s\n"
     ]
    },
    {
     "name": "stderr",
     "output_type": "stream",
     "text": [
      "INFO:gurobipy.gurobipy:     0     0   40.15927    0  374          -   40.15927      -     -    1s\n"
     ]
    },
    {
     "name": "stdout",
     "output_type": "stream",
     "text": [
      "     0     0   43.64638    0  392          -   43.64638      -     -    3s\n"
     ]
    },
    {
     "name": "stderr",
     "output_type": "stream",
     "text": [
      "INFO:gurobipy.gurobipy:     0     0   43.64638    0  392          -   43.64638      -     -    3s\n"
     ]
    },
    {
     "name": "stdout",
     "output_type": "stream",
     "text": [
      "     0     0   43.74850    0  394          -   43.74850      -     -    4s\n"
     ]
    },
    {
     "name": "stderr",
     "output_type": "stream",
     "text": [
      "INFO:gurobipy.gurobipy:     0     0   43.74850    0  394          -   43.74850      -     -    4s\n"
     ]
    },
    {
     "name": "stdout",
     "output_type": "stream",
     "text": [
      "     0     0   43.74850    0  393          -   43.74850      -     -    4s\n"
     ]
    },
    {
     "name": "stderr",
     "output_type": "stream",
     "text": [
      "INFO:gurobipy.gurobipy:     0     0   43.74850    0  393          -   43.74850      -     -    4s\n"
     ]
    },
    {
     "name": "stdout",
     "output_type": "stream",
     "text": [
      "     0     0   46.99399    0  401          -   46.99399      -     -    5s\n"
     ]
    },
    {
     "name": "stderr",
     "output_type": "stream",
     "text": [
      "INFO:gurobipy.gurobipy:     0     0   46.99399    0  401          -   46.99399      -     -    5s\n"
     ]
    },
    {
     "name": "stdout",
     "output_type": "stream",
     "text": [
      "     0     0   47.00008    0  383          -   47.00008      -     -    5s\n"
     ]
    },
    {
     "name": "stderr",
     "output_type": "stream",
     "text": [
      "INFO:gurobipy.gurobipy:     0     0   47.00008    0  383          -   47.00008      -     -    5s\n"
     ]
    },
    {
     "name": "stdout",
     "output_type": "stream",
     "text": [
      "     0     0   47.00008    0  382          -   47.00008      -     -    5s\n"
     ]
    },
    {
     "name": "stderr",
     "output_type": "stream",
     "text": [
      "INFO:gurobipy.gurobipy:     0     0   47.00008    0  382          -   47.00008      -     -    5s\n"
     ]
    },
    {
     "name": "stdout",
     "output_type": "stream",
     "text": [
      "     0     0   47.02760    0  386          -   47.02760      -     -    6s\n"
     ]
    },
    {
     "name": "stderr",
     "output_type": "stream",
     "text": [
      "INFO:gurobipy.gurobipy:     0     0   47.02760    0  386          -   47.02760      -     -    6s\n"
     ]
    },
    {
     "name": "stdout",
     "output_type": "stream",
     "text": [
      "     0     0   47.02760    0  380          -   47.02760      -     -    7s\n"
     ]
    },
    {
     "name": "stderr",
     "output_type": "stream",
     "text": [
      "INFO:gurobipy.gurobipy:     0     0   47.02760    0  380          -   47.02760      -     -    7s\n"
     ]
    },
    {
     "name": "stdout",
     "output_type": "stream",
     "text": [
      "     0     0   47.02760    0  381          -   47.02760      -     -    7s\n"
     ]
    },
    {
     "name": "stderr",
     "output_type": "stream",
     "text": [
      "INFO:gurobipy.gurobipy:     0     0   47.02760    0  381          -   47.02760      -     -    7s\n"
     ]
    },
    {
     "name": "stdout",
     "output_type": "stream",
     "text": [
      "     0     0   47.02760    0  259          -   47.02760      -     -    8s\n"
     ]
    },
    {
     "name": "stderr",
     "output_type": "stream",
     "text": [
      "INFO:gurobipy.gurobipy:     0     0   47.02760    0  259          -   47.02760      -     -    8s\n"
     ]
    },
    {
     "name": "stdout",
     "output_type": "stream",
     "text": [
      "     0     0   47.02760    0  266          -   47.02760      -     -    8s\n"
     ]
    },
    {
     "name": "stderr",
     "output_type": "stream",
     "text": [
      "INFO:gurobipy.gurobipy:     0     0   47.02760    0  266          -   47.02760      -     -    8s\n"
     ]
    },
    {
     "name": "stdout",
     "output_type": "stream",
     "text": [
      "     0     0   47.02760    0  271          -   47.02760      -     -    9s\n"
     ]
    },
    {
     "name": "stderr",
     "output_type": "stream",
     "text": [
      "INFO:gurobipy.gurobipy:     0     0   47.02760    0  271          -   47.02760      -     -    9s\n"
     ]
    },
    {
     "name": "stdout",
     "output_type": "stream",
     "text": [
      "     0     0   47.02760    0  271          -   47.02760      -     -    9s\n"
     ]
    },
    {
     "name": "stderr",
     "output_type": "stream",
     "text": [
      "INFO:gurobipy.gurobipy:     0     0   47.02760    0  271          -   47.02760      -     -    9s\n"
     ]
    },
    {
     "name": "stdout",
     "output_type": "stream",
     "text": [
      "     0     0   47.02760    0  269          -   47.02760      -     -   10s\n"
     ]
    },
    {
     "name": "stderr",
     "output_type": "stream",
     "text": [
      "INFO:gurobipy.gurobipy:     0     0   47.02760    0  269          -   47.02760      -     -   10s\n"
     ]
    },
    {
     "name": "stdout",
     "output_type": "stream",
     "text": [
      "     0     0   47.02760    0  270          -   47.02760      -     -   10s\n"
     ]
    },
    {
     "name": "stderr",
     "output_type": "stream",
     "text": [
      "INFO:gurobipy.gurobipy:     0     0   47.02760    0  270          -   47.02760      -     -   10s\n"
     ]
    },
    {
     "name": "stdout",
     "output_type": "stream",
     "text": [
      "H    0     0                     114.6720251   47.02760  59.0%     -   11s\n"
     ]
    },
    {
     "name": "stderr",
     "output_type": "stream",
     "text": [
      "INFO:gurobipy.gurobipy:H    0     0                     114.6720251   47.02760  59.0%     -   11s\n"
     ]
    },
    {
     "name": "stdout",
     "output_type": "stream",
     "text": [
      "     0     0   47.02760    0  270  114.67203   47.02760  59.0%     -   11s\n"
     ]
    },
    {
     "name": "stderr",
     "output_type": "stream",
     "text": [
      "INFO:gurobipy.gurobipy:     0     0   47.02760    0  270  114.67203   47.02760  59.0%     -   11s\n"
     ]
    },
    {
     "name": "stdout",
     "output_type": "stream",
     "text": [
      "H    0     0                      52.6783991   47.79635  9.27%     -   16s\n"
     ]
    },
    {
     "name": "stderr",
     "output_type": "stream",
     "text": [
      "INFO:gurobipy.gurobipy:H    0     0                      52.6783991   47.79635  9.27%     -   16s\n"
     ]
    },
    {
     "name": "stdout",
     "output_type": "stream",
     "text": [
      "\n"
     ]
    },
    {
     "name": "stderr",
     "output_type": "stream",
     "text": [
      "INFO:gurobipy.gurobipy:\n"
     ]
    },
    {
     "name": "stdout",
     "output_type": "stream",
     "text": [
      "Cutting planes:\n"
     ]
    },
    {
     "name": "stderr",
     "output_type": "stream",
     "text": [
      "INFO:gurobipy.gurobipy:Cutting planes:\n"
     ]
    },
    {
     "name": "stdout",
     "output_type": "stream",
     "text": [
      "  Learned: 13\n"
     ]
    },
    {
     "name": "stderr",
     "output_type": "stream",
     "text": [
      "INFO:gurobipy.gurobipy:  Learned: 13\n"
     ]
    },
    {
     "name": "stdout",
     "output_type": "stream",
     "text": [
      "  Gomory: 19\n"
     ]
    },
    {
     "name": "stderr",
     "output_type": "stream",
     "text": [
      "INFO:gurobipy.gurobipy:  Gomory: 19\n"
     ]
    },
    {
     "name": "stdout",
     "output_type": "stream",
     "text": [
      "  Implied bound: 89\n"
     ]
    },
    {
     "name": "stderr",
     "output_type": "stream",
     "text": [
      "INFO:gurobipy.gurobipy:  Implied bound: 89\n"
     ]
    },
    {
     "name": "stdout",
     "output_type": "stream",
     "text": [
      "  MIR: 52\n"
     ]
    },
    {
     "name": "stderr",
     "output_type": "stream",
     "text": [
      "INFO:gurobipy.gurobipy:  MIR: 52\n"
     ]
    },
    {
     "name": "stdout",
     "output_type": "stream",
     "text": [
      "  Zero half: 1\n"
     ]
    },
    {
     "name": "stderr",
     "output_type": "stream",
     "text": [
      "INFO:gurobipy.gurobipy:  Zero half: 1\n"
     ]
    },
    {
     "name": "stdout",
     "output_type": "stream",
     "text": [
      "  RLT: 6\n"
     ]
    },
    {
     "name": "stderr",
     "output_type": "stream",
     "text": [
      "INFO:gurobipy.gurobipy:  RLT: 6\n"
     ]
    },
    {
     "name": "stdout",
     "output_type": "stream",
     "text": [
      "  Relax-and-lift: 47\n"
     ]
    },
    {
     "name": "stderr",
     "output_type": "stream",
     "text": [
      "INFO:gurobipy.gurobipy:  Relax-and-lift: 47\n"
     ]
    },
    {
     "name": "stdout",
     "output_type": "stream",
     "text": [
      "\n"
     ]
    },
    {
     "name": "stderr",
     "output_type": "stream",
     "text": [
      "INFO:gurobipy.gurobipy:\n"
     ]
    },
    {
     "name": "stdout",
     "output_type": "stream",
     "text": [
      "Explored 1 nodes (3581 simplex iterations) in 16.30 seconds (9.07 work units)\n"
     ]
    },
    {
     "name": "stderr",
     "output_type": "stream",
     "text": [
      "INFO:gurobipy.gurobipy:Explored 1 nodes (3581 simplex iterations) in 16.30 seconds (9.07 work units)\n"
     ]
    },
    {
     "name": "stdout",
     "output_type": "stream",
     "text": [
      "Thread count was 12 (of 12 available processors)\n"
     ]
    },
    {
     "name": "stderr",
     "output_type": "stream",
     "text": [
      "INFO:gurobipy.gurobipy:Thread count was 12 (of 12 available processors)\n"
     ]
    },
    {
     "name": "stdout",
     "output_type": "stream",
     "text": [
      "\n"
     ]
    },
    {
     "name": "stderr",
     "output_type": "stream",
     "text": [
      "INFO:gurobipy.gurobipy:\n"
     ]
    },
    {
     "name": "stdout",
     "output_type": "stream",
     "text": [
      "Solution count 2: 52.6784 114.672 \n"
     ]
    },
    {
     "name": "stderr",
     "output_type": "stream",
     "text": [
      "INFO:gurobipy.gurobipy:Solution count 2: 52.6784 114.672 \n"
     ]
    },
    {
     "name": "stdout",
     "output_type": "stream",
     "text": [
      "\n"
     ]
    },
    {
     "name": "stderr",
     "output_type": "stream",
     "text": [
      "INFO:gurobipy.gurobipy:\n"
     ]
    },
    {
     "name": "stdout",
     "output_type": "stream",
     "text": [
      "Optimal solution found (tolerance 3.00e-01)\n"
     ]
    },
    {
     "name": "stderr",
     "output_type": "stream",
     "text": [
      "INFO:gurobipy.gurobipy:Optimal solution found (tolerance 3.00e-01)\n"
     ]
    },
    {
     "name": "stdout",
     "output_type": "stream",
     "text": [
      "Best objective 5.267839907950e+01, best bound 4.779634992895e+01, gap 9.2676%\n"
     ]
    },
    {
     "name": "stderr",
     "output_type": "stream",
     "text": [
      "INFO:gurobipy.gurobipy:Best objective 5.267839907950e+01, best bound 4.779634992895e+01, gap 9.2676%\n"
     ]
    }
   ],
   "source": [
    "vrp = gb.Model(\"Montreal Bus Routing\")\n",
    "vrp.Params.MIPGap = 0.3\n",
    "vrp.Params.TimeLimit = 30\n",
    "start_node_index = 173\n",
    "\n",
    "\n",
    "# Decision variables\n",
    "x = vrp.addVars(nodes, nodes, vtype=gb.GRB.BINARY, name=\"x\")\n",
    "\n",
    "u = vrp.addVars(nodes, vtype=gb.GRB.INTEGER, name=\"u\", ub=num_nodes)\n",
    "\n",
    "# Objective function\n",
    "vrp.setObjective(\n",
    "    gb.quicksum(distance_matrix.loc[i, j] * x[i, j] for i in nodes for j in nodes),\n",
    "    gb.GRB.MINIMIZE,\n",
    ")\n",
    "\n",
    "# Constraints\n",
    "vrp.addConstrs(\n",
    "    (gb.quicksum(x[i, j] for j in nodes if j != i) == 1 for i in nodes),\n",
    "    name=\"outgoing\",\n",
    ")\n",
    "\n",
    "vrp.addConstrs(\n",
    "    (gb.quicksum(x[j, i] for j in nodes if j != i) == 1 for i in nodes),\n",
    "    name=\"ingoing\",\n",
    ")\n",
    "\n",
    "vrp.addConstrs(\n",
    "    (\n",
    "        u[i] - u[j] + num_nodes * x[i, j] <= num_nodes - 1\n",
    "        for i in nodes\n",
    "        for j in nodes\n",
    "        if i != j and i != nodes[start_node_index] and j != nodes[start_node_index]\n",
    "    ),\n",
    "    name=\"subtour_elimination\",\n",
    ")\n",
    "\n",
    "vrp.addConstrs(\n",
    "    (u[i] >= 2 for i in nodes if i != nodes[start_node_index]), name=\"lower bound for u\"\n",
    ")\n",
    "\n",
    "vrp.addConstr(\n",
    "    u[nodes[start_node_index]] == 1,\n",
    "    name=\"start node index is 1\",\n",
    ")\n",
    "\n",
    "vrp.optimize()"
   ]
  },
  {
   "cell_type": "code",
   "execution_count": 10,
   "metadata": {},
   "outputs": [
    {
     "data": {
      "text/plain": [
       "1"
      ]
     },
     "execution_count": 10,
     "metadata": {},
     "output_type": "execute_result"
    }
   ],
   "source": [
    "nodes[start_node_index]"
   ]
  },
  {
   "cell_type": "code",
   "execution_count": 11,
   "metadata": {},
   "outputs": [
    {
     "name": "stdout",
     "output_type": "stream",
     "text": [
      "Minimum distance:  52.6783990795\n",
      "Optimal path: \n",
      "u[1] 1.0\n",
      "u[52517] 2.0\n",
      "u[52439] 3.0\n",
      "u[52412] 4.0\n",
      "u[52499] 5.0\n",
      "u[52588] 6.0\n",
      "u[52666] 7.0\n",
      "u[52705] 8.0\n",
      "u[52826] 9.0\n",
      "u[60426] 10.0\n",
      "u[52992] 11.0\n",
      "u[52975] 12.0\n",
      "u[61765] 13.0\n",
      "u[52945] 14.0\n",
      "u[52913] 15.0\n",
      "u[61744] 16.0\n",
      "u[58803] 17.0\n",
      "u[61743] 18.0\n",
      "u[52408] 19.0\n",
      "u[52321] 20.0\n",
      "u[52246] 21.0\n",
      "u[62063] 22.0\n",
      "u[52053] 23.0\n",
      "u[51989] 24.0\n",
      "u[52123] 25.0\n",
      "u[52447] 26.0\n",
      "u[52548] 27.0\n",
      "u[59235] 28.0\n",
      "u[59223] 29.0\n",
      "u[61745] 30.0\n",
      "u[52926] 31.0\n",
      "u[53898] 32.0\n",
      "u[53899] 33.0\n",
      "u[52912] 34.0\n",
      "u[52893] 35.0\n",
      "u[52887] 36.0\n",
      "u[52871] 37.0\n",
      "u[53900] 38.0\n",
      "u[60540] 39.0\n",
      "u[56719] 40.0\n",
      "u[56718] 41.0\n",
      "u[56715] 42.0\n",
      "u[56638] 43.0\n",
      "u[56636] 44.0\n",
      "u[56631] 45.0\n",
      "u[56629] 46.0\n",
      "u[56627] 47.0\n",
      "u[56621] 48.0\n",
      "u[56619] 49.0\n",
      "u[56706] 50.0\n",
      "u[3] 51.0\n",
      "u[54138] 52.0\n",
      "u[54281] 53.0\n",
      "u[51220] 54.0\n",
      "u[54186] 55.0\n",
      "u[53697] 56.0\n",
      "u[55311] 57.0\n",
      "u[55317] 58.0\n",
      "u[55218] 59.0\n",
      "u[60386] 60.0\n",
      "u[55315] 61.0\n",
      "u[55272] 62.0\n",
      "u[55285] 63.0\n",
      "u[55296] 64.0\n",
      "u[55306] 65.0\n",
      "u[55302] 66.0\n",
      "u[60507] 67.0\n",
      "u[60387] 68.0\n",
      "u[61529] 69.0\n",
      "u[53738] 70.0\n",
      "u[54514] 71.0\n",
      "u[51932] 72.0\n",
      "u[60328] 73.0\n",
      "u[53785] 74.0\n",
      "u[61756] 75.0\n",
      "u[53926] 76.0\n",
      "u[54513] 77.0\n",
      "u[54734] 78.0\n",
      "u[54481] 79.0\n",
      "u[52803] 80.0\n",
      "u[52860] 81.0\n",
      "u[52909] 82.0\n",
      "u[54406] 83.0\n",
      "u[54409] 84.0\n",
      "u[54241] 85.0\n",
      "u[2] 86.0\n",
      "u[54311] 87.0\n",
      "u[53499] 88.0\n",
      "u[53478] 89.0\n",
      "u[53473] 90.0\n",
      "u[53439] 91.0\n",
      "u[53436] 92.0\n",
      "u[53431] 93.0\n",
      "u[53391] 94.0\n",
      "u[53370] 95.0\n",
      "u[53353] 96.0\n",
      "u[61839] 97.0\n",
      "u[53281] 98.0\n",
      "u[53267] 99.0\n",
      "u[53214] 100.0\n",
      "u[54174] 101.0\n",
      "u[53096] 102.0\n",
      "u[53057] 103.0\n",
      "u[53005] 104.0\n",
      "u[52938] 105.0\n",
      "u[52837] 106.0\n",
      "u[52748] 107.0\n",
      "u[52657] 108.0\n",
      "u[52489] 109.0\n",
      "u[54999] 110.0\n",
      "u[54996] 111.0\n",
      "u[54991] 112.0\n",
      "u[54979] 113.0\n",
      "u[55024] 114.0\n",
      "u[54958] 115.0\n",
      "u[54937] 116.0\n",
      "u[54922] 117.0\n",
      "u[54910] 118.0\n",
      "u[54896] 119.0\n",
      "u[54886] 120.0\n",
      "u[54881] 121.0\n",
      "u[54861] 122.0\n",
      "u[54836] 123.0\n",
      "u[54816] 124.0\n",
      "u[55018] 125.0\n",
      "u[55019] 126.0\n",
      "u[54792] 127.0\n",
      "u[54772] 128.0\n",
      "u[61547] 129.0\n",
      "u[55283] 130.0\n",
      "u[55280] 131.0\n",
      "u[55269] 132.0\n",
      "u[55254] 133.0\n",
      "u[55278] 134.0\n",
      "u[59461] 135.0\n",
      "u[55294] 136.0\n",
      "u[55301] 137.0\n",
      "u[55257] 138.0\n",
      "u[60326] 139.0\n",
      "u[4] 140.0\n",
      "u[52069] 141.0\n",
      "u[52130] 142.0\n",
      "u[52197] 143.0\n",
      "u[52237] 144.0\n",
      "u[52325] 145.0\n",
      "u[52399] 146.0\n",
      "u[52434] 147.0\n",
      "u[52498] 148.0\n",
      "u[52627] 149.0\n",
      "u[60683] 150.0\n",
      "u[52782] 151.0\n",
      "u[52835] 152.0\n",
      "u[52861] 153.0\n",
      "u[52883] 154.0\n",
      "u[52916] 155.0\n",
      "u[52963] 156.0\n",
      "u[53003] 157.0\n",
      "u[53047] 158.0\n",
      "u[53024] 159.0\n",
      "u[5] 160.0\n",
      "u[62009] 161.0\n",
      "u[53719] 162.0\n",
      "u[53513] 163.0\n",
      "u[61728] 164.0\n",
      "u[53718] 165.0\n",
      "u[53465] 166.0\n",
      "u[53448] 167.0\n",
      "u[61732] 168.0\n",
      "u[61741] 169.0\n",
      "u[53487] 170.0\n",
      "u[53477] 171.0\n",
      "u[53712] 172.0\n",
      "u[53470] 173.0\n",
      "u[53457] 174.0\n",
      "u[54248] 175.0\n",
      "u[53435] 176.0\n",
      "u[61731] 177.0\n",
      "u[61740] 178.0\n"
     ]
    }
   ],
   "source": [
    "print(\"Minimum distance: \", vrp.objVal)\n",
    "print(\"Optimal path: \")\n",
    "tour = []\n",
    "for v in vrp.getVars():\n",
    "    if v.varName.startswith(\"u\"):\n",
    "        tour.append(v)\n",
    "\n",
    "for s in sorted(tour, key=lambda x: x.x):\n",
    "    print(s.varName, s.x)"
   ]
  },
  {
   "cell_type": "code",
   "execution_count": 12,
   "metadata": {},
   "outputs": [
    {
     "name": "stdout",
     "output_type": "stream",
     "text": [
      "example.html\n"
     ]
    },
    {
     "data": {
      "text/html": [
       "\n",
       "        <iframe\n",
       "            width=\"100%\"\n",
       "            height=\"600px\"\n",
       "            src=\"example.html\"\n",
       "            frameborder=\"0\"\n",
       "            allowfullscreen\n",
       "            \n",
       "        ></iframe>\n",
       "        "
      ],
      "text/plain": [
       "<IPython.lib.display.IFrame at 0x23c5d93f4c0>"
      ]
     },
     "execution_count": 12,
     "metadata": {},
     "output_type": "execute_result"
    }
   ],
   "source": [
    "# Plotting the directed graph\n",
    "G = nx.DiGraph()\n",
    "\n",
    "for i in nodes:\n",
    "    for j in nodes:\n",
    "        if x[i, j].x == 1:\n",
    "            G.add_edge(\n",
    "                i, j, weight=distance_matrix[i][j], step=u[i].x, label=f\"{i}-{j}\"\n",
    "            )\n",
    "\n",
    "pos = nx.spring_layout(G)\n",
    "steps = nx.get_edge_attributes(G, \"step\")\n",
    "\n",
    "from pyvis.network import Network\n",
    "\n",
    "net = Network(\n",
    "    directed=True,\n",
    "    notebook=True,\n",
    "    select_menu=True,\n",
    "    filter_menu=True,\n",
    "    cdn_resources=\"remote\",\n",
    "    neighborhood_highlight=True,\n",
    ")\n",
    "\n",
    "net.from_nx(G)\n",
    "net.show_buttons()\n",
    "\n",
    "\n",
    "net.show(\"example.html\")"
   ]
  },
  {
   "cell_type": "code",
   "execution_count": 20,
   "metadata": {},
   "outputs": [
    {
     "data": {
      "text/html": [
       "<div>\n",
       "<style scoped>\n",
       "    .dataframe tbody tr th:only-of-type {\n",
       "        vertical-align: middle;\n",
       "    }\n",
       "\n",
       "    .dataframe tbody tr th {\n",
       "        vertical-align: top;\n",
       "    }\n",
       "\n",
       "    .dataframe thead th {\n",
       "        text-align: right;\n",
       "    }\n",
       "</style>\n",
       "<table border=\"1\" class=\"dataframe\">\n",
       "  <thead>\n",
       "    <tr style=\"text-align: right;\">\n",
       "      <th></th>\n",
       "      <th>step</th>\n",
       "      <th>node</th>\n",
       "      <th>stop_id</th>\n",
       "      <th>stop_code</th>\n",
       "      <th>stop_name</th>\n",
       "      <th>stop_lat</th>\n",
       "      <th>stop_lon</th>\n",
       "      <th>stop_url</th>\n",
       "      <th>location_type</th>\n",
       "      <th>parent_station</th>\n",
       "      <th>wheelchair_boarding</th>\n",
       "      <th>geometry</th>\n",
       "    </tr>\n",
       "  </thead>\n",
       "  <tbody>\n",
       "    <tr>\n",
       "      <th>0</th>\n",
       "      <td>1.0</td>\n",
       "      <td>1</td>\n",
       "      <td>NaN</td>\n",
       "      <td>NaN</td>\n",
       "      <td>NaN</td>\n",
       "      <td>45.508888</td>\n",
       "      <td>-73.561668</td>\n",
       "      <td>NaN</td>\n",
       "      <td>NaN</td>\n",
       "      <td>NaN</td>\n",
       "      <td>NaN</td>\n",
       "      <td>None</td>\n",
       "    </tr>\n",
       "    <tr>\n",
       "      <th>1</th>\n",
       "      <td>2.0</td>\n",
       "      <td>52517</td>\n",
       "      <td>52517</td>\n",
       "      <td>52517.0</td>\n",
       "      <td>Station Place-des-Arts (Président-Kennedy / De...</td>\n",
       "      <td>45.507283</td>\n",
       "      <td>-73.569604</td>\n",
       "      <td>https://www.stm.info/fr/recherche#stq=52517</td>\n",
       "      <td>0.0</td>\n",
       "      <td>NaN</td>\n",
       "      <td>1.0</td>\n",
       "      <td>POINT (-73.56960 45.50728)</td>\n",
       "    </tr>\n",
       "    <tr>\n",
       "      <th>2</th>\n",
       "      <td>3.0</td>\n",
       "      <td>52439</td>\n",
       "      <td>52439</td>\n",
       "      <td>52439.0</td>\n",
       "      <td>du Président-Kennedy / Aylmer</td>\n",
       "      <td>45.505745</td>\n",
       "      <td>-73.571114</td>\n",
       "      <td>https://www.stm.info/fr/recherche#stq=52439</td>\n",
       "      <td>0.0</td>\n",
       "      <td>NaN</td>\n",
       "      <td>1.0</td>\n",
       "      <td>POINT (-73.57111 45.50574)</td>\n",
       "    </tr>\n",
       "    <tr>\n",
       "      <th>3</th>\n",
       "      <td>4.0</td>\n",
       "      <td>52412</td>\n",
       "      <td>52412</td>\n",
       "      <td>52412.0</td>\n",
       "      <td>Station McGill (Robert-Bourassa / Président-Ke...</td>\n",
       "      <td>45.504430</td>\n",
       "      <td>-73.572240</td>\n",
       "      <td>https://www.stm.info/fr/recherche#stq=52412</td>\n",
       "      <td>0.0</td>\n",
       "      <td>NaN</td>\n",
       "      <td>1.0</td>\n",
       "      <td>POINT (-73.57224 45.50443)</td>\n",
       "    </tr>\n",
       "    <tr>\n",
       "      <th>4</th>\n",
       "      <td>5.0</td>\n",
       "      <td>52499</td>\n",
       "      <td>52499</td>\n",
       "      <td>52499.0</td>\n",
       "      <td>Robert-Bourassa / Sainte-Catherine</td>\n",
       "      <td>45.503361</td>\n",
       "      <td>-73.570056</td>\n",
       "      <td>https://www.stm.info/fr/recherche#stq=52499</td>\n",
       "      <td>0.0</td>\n",
       "      <td>NaN</td>\n",
       "      <td>1.0</td>\n",
       "      <td>POINT (-73.57006 45.50336)</td>\n",
       "    </tr>\n",
       "    <tr>\n",
       "      <th>...</th>\n",
       "      <td>...</td>\n",
       "      <td>...</td>\n",
       "      <td>...</td>\n",
       "      <td>...</td>\n",
       "      <td>...</td>\n",
       "      <td>...</td>\n",
       "      <td>...</td>\n",
       "      <td>...</td>\n",
       "      <td>...</td>\n",
       "      <td>...</td>\n",
       "      <td>...</td>\n",
       "      <td>...</td>\n",
       "    </tr>\n",
       "    <tr>\n",
       "      <th>173</th>\n",
       "      <td>174.0</td>\n",
       "      <td>53457</td>\n",
       "      <td>53457</td>\n",
       "      <td>53457.0</td>\n",
       "      <td>Sherbrooke / du Tricentenaire</td>\n",
       "      <td>45.652566</td>\n",
       "      <td>-73.510681</td>\n",
       "      <td>https://www.stm.info/fr/recherche#stq=53457</td>\n",
       "      <td>0.0</td>\n",
       "      <td>NaN</td>\n",
       "      <td>1.0</td>\n",
       "      <td>POINT (-73.51068 45.65257)</td>\n",
       "    </tr>\n",
       "    <tr>\n",
       "      <th>174</th>\n",
       "      <td>175.0</td>\n",
       "      <td>54248</td>\n",
       "      <td>54248</td>\n",
       "      <td>54248.0</td>\n",
       "      <td>Sherbrooke / No 12572</td>\n",
       "      <td>45.650351</td>\n",
       "      <td>-73.511446</td>\n",
       "      <td>https://www.stm.info/fr/recherche#stq=54248</td>\n",
       "      <td>0.0</td>\n",
       "      <td>NaN</td>\n",
       "      <td>1.0</td>\n",
       "      <td>POINT (-73.51145 45.65035)</td>\n",
       "    </tr>\n",
       "    <tr>\n",
       "      <th>175</th>\n",
       "      <td>176.0</td>\n",
       "      <td>53435</td>\n",
       "      <td>53435</td>\n",
       "      <td>53435.0</td>\n",
       "      <td>Sherbrooke / 16e Avenue</td>\n",
       "      <td>45.646831</td>\n",
       "      <td>-73.512662</td>\n",
       "      <td>https://www.stm.info/fr/recherche#stq=53435</td>\n",
       "      <td>0.0</td>\n",
       "      <td>NaN</td>\n",
       "      <td>1.0</td>\n",
       "      <td>POINT (-73.51266 45.64683)</td>\n",
       "    </tr>\n",
       "    <tr>\n",
       "      <th>176</th>\n",
       "      <td>177.0</td>\n",
       "      <td>61731</td>\n",
       "      <td>61731</td>\n",
       "      <td>61731.0</td>\n",
       "      <td>Sherbrooke / Saint-Jean-Baptiste</td>\n",
       "      <td>45.644657</td>\n",
       "      <td>-73.513411</td>\n",
       "      <td>https://www.stm.info/fr/recherche#stq=61731</td>\n",
       "      <td>0.0</td>\n",
       "      <td>NaN</td>\n",
       "      <td>1.0</td>\n",
       "      <td>POINT (-73.51341 45.64466)</td>\n",
       "    </tr>\n",
       "    <tr>\n",
       "      <th>177</th>\n",
       "      <td>178.0</td>\n",
       "      <td>61740</td>\n",
       "      <td>61740</td>\n",
       "      <td>61740.0</td>\n",
       "      <td>Saint-Jean-Baptiste / Industriel</td>\n",
       "      <td>45.644510</td>\n",
       "      <td>-73.519071</td>\n",
       "      <td>https://www.stm.info/fr/recherche#stq=61740</td>\n",
       "      <td>0.0</td>\n",
       "      <td>NaN</td>\n",
       "      <td>2.0</td>\n",
       "      <td>POINT (-73.51907 45.64451)</td>\n",
       "    </tr>\n",
       "  </tbody>\n",
       "</table>\n",
       "<p>178 rows × 12 columns</p>\n",
       "</div>"
      ],
      "text/plain": [
       "      step   node stop_id  stop_code  \\\n",
       "0      1.0      1     NaN        NaN   \n",
       "1      2.0  52517   52517    52517.0   \n",
       "2      3.0  52439   52439    52439.0   \n",
       "3      4.0  52412   52412    52412.0   \n",
       "4      5.0  52499   52499    52499.0   \n",
       "..     ...    ...     ...        ...   \n",
       "173  174.0  53457   53457    53457.0   \n",
       "174  175.0  54248   54248    54248.0   \n",
       "175  176.0  53435   53435    53435.0   \n",
       "176  177.0  61731   61731    61731.0   \n",
       "177  178.0  61740   61740    61740.0   \n",
       "\n",
       "                                             stop_name   stop_lat   stop_lon  \\\n",
       "0                                                  NaN  45.508888 -73.561668   \n",
       "1    Station Place-des-Arts (Président-Kennedy / De...  45.507283 -73.569604   \n",
       "2                        du Président-Kennedy / Aylmer  45.505745 -73.571114   \n",
       "3    Station McGill (Robert-Bourassa / Président-Ke...  45.504430 -73.572240   \n",
       "4                   Robert-Bourassa / Sainte-Catherine  45.503361 -73.570056   \n",
       "..                                                 ...        ...        ...   \n",
       "173                      Sherbrooke / du Tricentenaire  45.652566 -73.510681   \n",
       "174                              Sherbrooke / No 12572  45.650351 -73.511446   \n",
       "175                            Sherbrooke / 16e Avenue  45.646831 -73.512662   \n",
       "176                   Sherbrooke / Saint-Jean-Baptiste  45.644657 -73.513411   \n",
       "177                   Saint-Jean-Baptiste / Industriel  45.644510 -73.519071   \n",
       "\n",
       "                                        stop_url  location_type  \\\n",
       "0                                            NaN            NaN   \n",
       "1    https://www.stm.info/fr/recherche#stq=52517            0.0   \n",
       "2    https://www.stm.info/fr/recherche#stq=52439            0.0   \n",
       "3    https://www.stm.info/fr/recherche#stq=52412            0.0   \n",
       "4    https://www.stm.info/fr/recherche#stq=52499            0.0   \n",
       "..                                           ...            ...   \n",
       "173  https://www.stm.info/fr/recherche#stq=53457            0.0   \n",
       "174  https://www.stm.info/fr/recherche#stq=54248            0.0   \n",
       "175  https://www.stm.info/fr/recherche#stq=53435            0.0   \n",
       "176  https://www.stm.info/fr/recherche#stq=61731            0.0   \n",
       "177  https://www.stm.info/fr/recherche#stq=61740            0.0   \n",
       "\n",
       "    parent_station  wheelchair_boarding                    geometry  \n",
       "0              NaN                  NaN                        None  \n",
       "1              NaN                  1.0  POINT (-73.56960 45.50728)  \n",
       "2              NaN                  1.0  POINT (-73.57111 45.50574)  \n",
       "3              NaN                  1.0  POINT (-73.57224 45.50443)  \n",
       "4              NaN                  1.0  POINT (-73.57006 45.50336)  \n",
       "..             ...                  ...                         ...  \n",
       "173            NaN                  1.0  POINT (-73.51068 45.65257)  \n",
       "174            NaN                  1.0  POINT (-73.51145 45.65035)  \n",
       "175            NaN                  1.0  POINT (-73.51266 45.64683)  \n",
       "176            NaN                  1.0  POINT (-73.51341 45.64466)  \n",
       "177            NaN                  2.0  POINT (-73.51907 45.64451)  \n",
       "\n",
       "[178 rows x 12 columns]"
      ]
     },
     "execution_count": 20,
     "metadata": {},
     "output_type": "execute_result"
    }
   ],
   "source": [
    "# convert tour into dictionary of steps and nodes\n",
    "\n",
    "tour_dict = {}\n",
    "\n",
    "for node in tour:\n",
    "    node_name = node.varName\n",
    "\n",
    "    node_name = re.sub(r\"[u\\[\\]]\", \"\", node_name)\n",
    "    tour_dict[node.x] = int(node_name)\n",
    "\n",
    "tour_df = (\n",
    "    pd.DataFrame.from_dict(tour_dict, orient=\"index\", columns=[\"node\"])\n",
    "    .sort_index()\n",
    "    .reset_index()\n",
    "    .rename(columns={\"index\": \"step\"})\n",
    ")\n",
    "\n",
    "tour_df = tour_df.merge(stops, left_on=\"node\", right_on=\"stop_code\", how=\"left\")\n",
    "\n",
    "tour_df['stop_lat'] = tour_df['stop_lat'].fillna(45.508888)\n",
    "tour_df['stop_lon'] = tour_df['stop_lon'].fillna(-73.561668)\n",
    "\n",
    "tour_df"
   ]
  },
  {
   "cell_type": "code",
   "execution_count": 22,
   "metadata": {},
   "outputs": [
    {
     "name": "stdout",
     "output_type": "stream",
     "text": [
      "User Guide: https://docs.kepler.gl/docs/keplergl-jupyter\n"
     ]
    },
    {
     "data": {
      "application/vnd.jupyter.widget-view+json": {
       "model_id": "a103ab4303784dcbb2e882bd89e25c65",
       "version_major": 2,
       "version_minor": 0
      },
      "text/plain": [
       "KeplerGl(data={'stops_in_trip': {'index': [0, 1, 2, 3, 4, 5, 6, 7, 8, 9, 10, 11, 12, 13, 14, 15, 16, 17, 18, 1…"
      ]
     },
     "metadata": {},
     "output_type": "display_data"
    }
   ],
   "source": [
    "map = KeplerGl(height=700)\n",
    "\n",
    "map.add_data(\n",
    "    data=tour_df[[\"stop_lat\", \"stop_lon\", \"stop_name\", \"step\"]],\n",
    "    name=\"stops_in_trip\",\n",
    ")\n",
    "\n",
    "map"
   ]
  }
 ],
 "metadata": {
  "kernelspec": {
   "display_name": "Python 3",
   "language": "python",
   "name": "python3"
  },
  "language_info": {
   "codemirror_mode": {
    "name": "ipython",
    "version": 3
   },
   "file_extension": ".py",
   "mimetype": "text/x-python",
   "name": "python",
   "nbconvert_exporter": "python",
   "pygments_lexer": "ipython3",
   "version": "3.10.11"
  }
 },
 "nbformat": 4,
 "nbformat_minor": 2
}
